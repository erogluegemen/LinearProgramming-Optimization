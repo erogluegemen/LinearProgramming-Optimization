{
 "cells": [
  {
   "cell_type": "markdown",
   "id": "dfd173a2-1839-4795-89cf-8bd9ae1afc38",
   "metadata": {},
   "source": [
    "# Optimization using SciPy"
   ]
  },
  {
   "cell_type": "markdown",
   "id": "c488c628-0795-4473-9ea1-5c985cda15d3",
   "metadata": {},
   "source": [
    "## Simple Optimization (Minimum and Maximum)"
   ]
  },
  {
   "cell_type": "code",
   "execution_count": 8,
   "id": "278ed706-7126-4895-8650-881cfbfd15c1",
   "metadata": {},
   "outputs": [],
   "source": [
    "%matplotlib notebook"
   ]
  },
  {
   "cell_type": "code",
   "execution_count": 9,
   "id": "c12d79db-4c49-495f-9bf8-dfa47d478abb",
   "metadata": {},
   "outputs": [],
   "source": [
    "%matplotlib inline"
   ]
  },
  {
   "cell_type": "code",
   "execution_count": 21,
   "id": "0a257080-b8ef-4de3-9f57-b571175065e2",
   "metadata": {},
   "outputs": [],
   "source": [
    "import matplotlib.pyplot as plt\n",
    "import numpy as np\n",
    "\n",
    "import warnings\n",
    "warnings.filterwarnings('ignore')"
   ]
  },
  {
   "cell_type": "markdown",
   "id": "d782dd6d-cece-4882-a84a-49da86fbba6b",
   "metadata": {},
   "source": [
    "- Define a function: $f(x)=x^2 + 10sin(x)$"
   ]
  },
  {
   "cell_type": "code",
   "execution_count": 3,
   "id": "55233f78-0094-4e13-9791-824143c4a8e5",
   "metadata": {},
   "outputs": [],
   "source": [
    "def f(x):\n",
    "    return x**2 + 10*np.sin(x)  # Objective Function"
   ]
  },
  {
   "cell_type": "code",
   "execution_count": 4,
   "id": "ed8aeb5b-a13d-4c7d-adde-1d4dca30357f",
   "metadata": {},
   "outputs": [
    {
     "data": {
      "text/plain": [
       "array([-10. ,  -9.6,  -9.2,  -8.8,  -8.4,  -8. ,  -7.6,  -7.2,  -6.8,\n",
       "        -6.4,  -6. ,  -5.6,  -5.2,  -4.8,  -4.4,  -4. ,  -3.6,  -3.2,\n",
       "        -2.8,  -2.4,  -2. ,  -1.6,  -1.2,  -0.8,  -0.4,   0. ,   0.4,\n",
       "         0.8,   1.2,   1.6,   2. ,   2.4,   2.8,   3.2,   3.6,   4. ,\n",
       "         4.4,   4.8,   5.2,   5.6,   6. ,   6.4,   6.8,   7.2,   7.6,\n",
       "         8. ,   8.4,   8.8,   9.2,   9.6,  10. ])"
      ]
     },
     "execution_count": 4,
     "metadata": {},
     "output_type": "execute_result"
    }
   ],
   "source": [
    "x = np.linspace(-10, 10, 51)\n",
    "x"
   ]
  },
  {
   "cell_type": "code",
   "execution_count": 5,
   "id": "12abff68-31b5-4fd3-9dca-3e82a5115858",
   "metadata": {},
   "outputs": [
    {
     "data": {
      "text/plain": [
       "array([105.44021111,  93.90326781,  82.41110086,  71.59082807,\n",
       "        62.01401092,  54.10641753,  48.08080328,  43.90332136,\n",
       "        41.29886649,  39.79450795,  38.79415498,  37.67266638,\n",
       "        35.87454656,  33.00164609,  28.87602074,  23.56802495,\n",
       "        17.38520443,  10.82374143,   4.4901185 ,  -0.99463181,\n",
       "        -5.09297427,  -7.43573603,  -7.88039086,  -6.53356091,\n",
       "        -3.73418342,   0.        ,   4.05418342,   7.81356091,\n",
       "        10.76039086,  12.55573603,  13.09297427,  12.51463181,\n",
       "        11.1898815 ,   9.65625857,   8.53479557,   8.43197505,\n",
       "         9.84397926,  13.07835391,  18.20545344,  25.04733362,\n",
       "        33.20584502,  42.12549205,  51.18113351,  59.77667864,\n",
       "        67.43919672,  73.89358247,  79.10598908,  83.28917193,\n",
       "        86.86889914,  90.41673219,  94.55978889])"
      ]
     },
     "execution_count": 5,
     "metadata": {},
     "output_type": "execute_result"
    }
   ],
   "source": [
    "y = f(x)\n",
    "y"
   ]
  },
  {
   "cell_type": "code",
   "execution_count": 42,
   "id": "d757ceb7-7cb3-407d-a48d-a2b9eb588314",
   "metadata": {},
   "outputs": [
    {
     "data": {
      "image/png": "[encoded data removed]",
      "text/plain": [
       "<Figure size 400x320 with 1 Axes>"
      ]
     },
     "metadata": {
      "needs_background": "light"
     },
     "output_type": "display_data"
    }
   ],
   "source": [
    "fig = plt.figure(figsize=(5,4), dpi=80)\n",
    "plt.plot(x, y)\n",
    "plt.grid('on')\n",
    "plt.show()"
   ]
  },
  {
   "cell_type": "code",
   "execution_count": 14,
   "id": "bb39950d-5dde-46a5-98a4-dfa5804be38f",
   "metadata": {},
   "outputs": [],
   "source": [
    "import scipy.optimize as opt"
   ]
  },
  {
   "cell_type": "markdown",
   "id": "d01fef9e-5c78-4930-8ff2-3f3c03e67d00",
   "metadata": {},
   "source": [
    "- Find a minimum of the function f(x) using the BFGS(Broyden-Fletcher-Goldfarb-Shanno) method, starting from a initial point x0 = 0. "
   ]
  },
  {
   "cell_type": "code",
   "execution_count": 24,
   "id": "43022f06-4469-4299-b7b4-130fe5e7c65e",
   "metadata": {},
   "outputs": [
    {
     "name": "stdout",
     "output_type": "stream",
     "text": [
      "Optimization terminated successfully.\n",
      "         Current function value: -7.945823\n",
      "         Iterations: 5\n",
      "         Function evaluations: 12\n",
      "         Gradient evaluations: 6\n"
     ]
    }
   ],
   "source": [
    "x0 = 0\n",
    "[xopt, fopt, gopt, Bopt, func_calls, grad_calls, warnflg] = \\\n",
    "        opt.fmin_bfgs(f,  # Objective function to be minimized.\n",
    "        x0=x0,  # Initial guess.\n",
    "        maxiter=2000,  # Maximum number of iterations to perform.\n",
    "        full_output=True)  # Return fopt, func_calls, grad_calls, and warnflag in addition to xopt.\n"
   ]
  },
  {
   "cell_type": "code",
   "execution_count": 19,
   "id": "4db61e9c-2eb3-4ef9-bf3e-887842039daa",
   "metadata": {},
   "outputs": [
    {
     "data": {
      "text/plain": [
       "(array([-1.30644012]), -7.945823375615215)"
      ]
     },
     "execution_count": 19,
     "metadata": {},
     "output_type": "execute_result"
    }
   ],
   "source": [
    "xopt, fopt"
   ]
  },
  {
   "cell_type": "code",
   "execution_count": 38,
   "id": "fe27dc93-cbf1-4a9d-aa1b-524620b03086",
   "metadata": {},
   "outputs": [
    {
     "data": {
      "image/png": "[encoded data removed]",
      "text/plain": [
       "<Figure size 400x320 with 1 Axes>"
      ]
     },
     "metadata": {
      "needs_background": "light"
     },
     "output_type": "display_data"
    }
   ],
   "source": [
    "fig = plt.figure(figsize=(5,4), dpi=80)\n",
    "plt.plot(x,y)\n",
    "plt.plot([x0, xopt],[f(x0), fopt], 'o')\n",
    "plt.grid('on')\n",
    "plt.show()"
   ]
  },
  {
   "cell_type": "markdown",
   "id": "6c420906-6659-41dc-96a2-bdd42b54eacd",
   "metadata": {},
   "source": [
    "- What if we start from x0 = 6 ?"
   ]
  },
  {
   "cell_type": "code",
   "execution_count": 25,
   "id": "3a4a92a8-ac67-4a35-83b2-77cd9999ecc6",
   "metadata": {},
   "outputs": [
    {
     "name": "stdout",
     "output_type": "stream",
     "text": [
      "Optimization terminated successfully.\n",
      "         Current function value: 8.315586\n",
      "         Iterations: 7\n",
      "         Function evaluations: 16\n",
      "         Gradient evaluations: 8\n"
     ]
    }
   ],
   "source": [
    "x0 = 6 \n",
    "[xopt, fopt, gopt, Bopt, func_calls, grad_calls, warnflg] = \\\n",
    "        opt.fmin_bfgs(f,  # Objective function to be minimized.\n",
    "        x0=x0,  # Initial guess.\n",
    "        maxiter=2000,  # Maximum number of iterations to perform.\n",
    "        full_output=True)  # Return fopt, func_calls, grad_calls, and warnflag in addition to xopt."
   ]
  },
  {
   "cell_type": "code",
   "execution_count": 26,
   "id": "9a44df29-90f2-4b98-9a78-c5c208d585ff",
   "metadata": {},
   "outputs": [
    {
     "data": {
      "text/plain": [
       "(array([3.83746709]), 8.315585579477458)"
      ]
     },
     "execution_count": 26,
     "metadata": {},
     "output_type": "execute_result"
    }
   ],
   "source": [
    "xopt, fopt"
   ]
  },
  {
   "cell_type": "code",
   "execution_count": 36,
   "id": "15ea4fb3-d2b7-41c3-8b02-4a9f60b92626",
   "metadata": {},
   "outputs": [
    {
     "data": {
      "image/png": "[encoded data removed]",
      "text/plain": [
       "<Figure size 400x320 with 1 Axes>"
      ]
     },
     "metadata": {
      "needs_background": "light"
     },
     "output_type": "display_data"
    }
   ],
   "source": [
    "fig = plt.figure(figsize=(5,4), dpi=80)\n",
    "plt.plot(x, y)\n",
    "plt.plot([x0, xopt], [f(x0), fopt], 'o')\n",
    "plt.grid('on')\n",
    "plt.show()"
   ]
  },
  {
   "cell_type": "markdown",
   "id": "39e18abb-6c6c-4db3-98c8-a5b905f3bc85",
   "metadata": {},
   "source": [
    "- Find the global minimum using the basinhopping method."
   ]
  },
  {
   "cell_type": "code",
   "execution_count": 28,
   "id": "4fa88ea0-2f6f-4a67-8de7-f92d06abd2fd",
   "metadata": {},
   "outputs": [
    {
     "data": {
      "text/plain": [
       "                        fun: -7.9458233756152845\n",
       " lowest_optimization_result:       fun: -7.9458233756152845\n",
       " hess_inv: array([[0.0858477]])\n",
       "      jac: array([1.1920929e-07])\n",
       "  message: 'Optimization terminated successfully.'\n",
       "     nfev: 12\n",
       "      nit: 5\n",
       "     njev: 6\n",
       "   status: 0\n",
       "  success: True\n",
       "        x: array([-1.30644001])\n",
       "                    message: ['requested number of basinhopping iterations completed successfully']\n",
       "      minimization_failures: 0\n",
       "                       nfev: 1218\n",
       "                        nit: 100\n",
       "                       njev: 609\n",
       "                          x: array([-1.30644001])"
      ]
     },
     "execution_count": 28,
     "metadata": {},
     "output_type": "execute_result"
    }
   ],
   "source": [
    "res = \\\n",
    "    opt.basinhopping(f, \n",
    "                     x0=x0, \n",
    "                     T=1,  # The “temperature” parameter\n",
    "                     stepsize=2)  # Initial step size\n",
    "res"
   ]
  },
  {
   "cell_type": "code",
   "execution_count": 35,
   "id": "8124f70f-43e9-4fc8-8dcd-62fa3102f936",
   "metadata": {},
   "outputs": [
    {
     "data": {
      "image/png": "[encoded data removed]",
      "text/plain": [
       "<Figure size 400x320 with 1 Axes>"
      ]
     },
     "metadata": {
      "needs_background": "light"
     },
     "output_type": "display_data"
    }
   ],
   "source": [
    "fig = plt.figure(figsize=(5,4), dpi=80)\n",
    "plt.plot(x, y)\n",
    "plt.plot([x0, res.x], [f(x0), res.fun], 'o')\n",
    "plt.grid('on')\n",
    "plt.show()"
   ]
  },
  {
   "cell_type": "markdown",
   "id": "3ce1da10-066e-4015-aaea-9fc0ddcd359a",
   "metadata": {},
   "source": [
    "## Solving Equations"
   ]
  },
  {
   "cell_type": "markdown",
   "id": "feea8649-b195-45ee-b462-0b990e7b7e0d",
   "metadata": {},
   "source": [
    "- Solve the equation $f(x)=x^2 + 10sin(x)=0$"
   ]
  },
  {
   "cell_type": "code",
   "execution_count": 30,
   "id": "574bd99e-0148-4923-be90-80487e004f7a",
   "metadata": {},
   "outputs": [
    {
     "data": {
      "text/plain": [
       "array([0.])"
      ]
     },
     "execution_count": 30,
     "metadata": {},
     "output_type": "execute_result"
    }
   ],
   "source": [
    "x0 = 1\n",
    "xopt = opt.fsolve(f, x0)  # Find a root with initial guess x0\n",
    "xopt"
   ]
  },
  {
   "cell_type": "code",
   "execution_count": 34,
   "id": "aa019ad7-644c-420b-a1e2-173918ba861e",
   "metadata": {},
   "outputs": [
    {
     "data": {
      "image/png": "[encoded data removed]",
      "text/plain": [
       "<Figure size 400x320 with 1 Axes>"
      ]
     },
     "metadata": {
      "needs_background": "light"
     },
     "output_type": "display_data"
    }
   ],
   "source": [
    "fig = plt.figure(figsize=(5,4), dpi=80)\n",
    "plt.plot(x, y)\n",
    "plt.plot([x0, xopt], [f(x0), f(xopt)], 'o')\n",
    "plt.grid('on')\n",
    "plt.show()"
   ]
  },
  {
   "cell_type": "code",
   "execution_count": 32,
   "id": "fff41731-d397-442d-87fe-b8c70da63325",
   "metadata": {},
   "outputs": [
    {
     "data": {
      "text/plain": [
       "array([-2.47948183])"
      ]
     },
     "execution_count": 32,
     "metadata": {},
     "output_type": "execute_result"
    }
   ],
   "source": [
    "x0 = -3\n",
    "xopt = opt.fsolve(f, x0)  # Find a root with initial guess x0\n",
    "xopt"
   ]
  },
  {
   "cell_type": "code",
   "execution_count": 33,
   "id": "d86c105b-94fb-4808-bd43-b2cdf405c339",
   "metadata": {},
   "outputs": [
    {
     "data": {
      "image/png": "[encoded data removed]",
      "text/plain": [
       "<Figure size 400x320 with 1 Axes>"
      ]
     },
     "metadata": {
      "needs_background": "light"
     },
     "output_type": "display_data"
    }
   ],
   "source": [
    "fig = plt.figure(figsize=(5, 4), dpi=80)\n",
    "plt.plot(x, y)\n",
    "plt.plot([x0, xopt], [f(x0), f(xopt)], 'o')\n",
    "plt.grid('on')\n",
    "plt.show()"
   ]
  },
  {
   "cell_type": "markdown",
   "id": "e25bfd3b-cb87-41b8-a25c-e5cb759245ec",
   "metadata": {},
   "source": [
    "## Curve Fitting"
   ]
  },
  {
   "cell_type": "markdown",
   "id": "aa392f06-bd48-4cc3-a2e4-d556aeda641f",
   "metadata": {},
   "source": [
    "- Curve fitting is a procedure for finding the best-fitting curve to a given set of points by minimizing the sum of the squares of the offsets('the residuals') of the points from the curve."
   ]
  },
  {
   "cell_type": "code",
   "execution_count": 48,
   "id": "df4cfafa-c5ad-4bbb-9a29-3488d79dcda9",
   "metadata": {},
   "outputs": [
    {
     "data": {
      "text/plain": [
       "array([-10. ,  -9.6,  -9.2,  -8.8,  -8.4,  -8. ,  -7.6,  -7.2,  -6.8,\n",
       "        -6.4,  -6. ,  -5.6,  -5.2,  -4.8,  -4.4,  -4. ,  -3.6,  -3.2,\n",
       "        -2.8,  -2.4,  -2. ,  -1.6,  -1.2,  -0.8,  -0.4,   0. ,   0.4,\n",
       "         0.8,   1.2,   1.6,   2. ,   2.4,   2.8,   3.2,   3.6,   4. ,\n",
       "         4.4,   4.8,   5.2,   5.6,   6. ,   6.4,   6.8,   7.2,   7.6,\n",
       "         8. ,   8.4,   8.8,   9.2,   9.6,  10. ])"
      ]
     },
     "execution_count": 48,
     "metadata": {},
     "output_type": "execute_result"
    }
   ],
   "source": [
    "x"
   ]
  },
  {
   "cell_type": "code",
   "execution_count": 46,
   "id": "a210fe86-5a30-4aeb-b7b0-d3d89e0c1e0e",
   "metadata": {},
   "outputs": [
    {
     "data": {
      "text/plain": [
       "array([105.44021111,  93.90326781,  82.41110086,  71.59082807,\n",
       "        62.01401092,  54.10641753,  48.08080328,  43.90332136,\n",
       "        41.29886649,  39.79450795,  38.79415498,  37.67266638,\n",
       "        35.87454656,  33.00164609,  28.87602074,  23.56802495,\n",
       "        17.38520443,  10.82374143,   4.4901185 ,  -0.99463181,\n",
       "        -5.09297427,  -7.43573603,  -7.88039086,  -6.53356091,\n",
       "        -3.73418342,   0.        ,   4.05418342,   7.81356091,\n",
       "        10.76039086,  12.55573603,  13.09297427,  12.51463181,\n",
       "        11.1898815 ,   9.65625857,   8.53479557,   8.43197505,\n",
       "         9.84397926,  13.07835391,  18.20545344,  25.04733362,\n",
       "        33.20584502,  42.12549205,  51.18113351,  59.77667864,\n",
       "        67.43919672,  73.89358247,  79.10598908,  83.28917193,\n",
       "        86.86889914,  90.41673219,  94.55978889])"
      ]
     },
     "execution_count": 46,
     "metadata": {},
     "output_type": "execute_result"
    }
   ],
   "source": [
    "y"
   ]
  },
  {
   "cell_type": "code",
   "execution_count": 49,
   "id": "dd93c471-2487-44b5-bef5-c58cf3e2c169",
   "metadata": {},
   "outputs": [
    {
     "data": {
      "image/png": "[encoded data removed]",
      "text/plain": [
       "<Figure size 400x320 with 1 Axes>"
      ]
     },
     "metadata": {
      "needs_background": "light"
     },
     "output_type": "display_data"
    }
   ],
   "source": [
    "fig = plt.figure(figsize=(5, 4), dpi=80)\n",
    "plt.plot(x, y, 'x')\n",
    "plt.grid('on')\n",
    "plt.show()"
   ]
  },
  {
   "cell_type": "code",
   "execution_count": 50,
   "id": "8e8da9b3-fdae-4eb1-bf51-e6fb726585e9",
   "metadata": {},
   "outputs": [
    {
     "data": {
      "text/plain": [
       "array([104.79007818,  92.84737189,  91.16546145,  70.19916045,\n",
       "        60.49216398,  49.65453058,  46.66886681,  39.63909326,\n",
       "        40.88801752,  40.33926062,  33.7432906 ,  38.1071468 ,\n",
       "        27.43961785,  23.26491219,  34.9461266 ,  24.18860581,\n",
       "        13.87410455,  15.83893475,   2.2110732 ,  -0.68390617,\n",
       "        -3.14719515,  -6.30062629, -12.23529856, -10.18447733,\n",
       "        -6.55951127,   1.54848861,  -5.53267414,   3.24199201,\n",
       "        11.62199903,  16.16692355,  11.25225384,  10.87851279,\n",
       "        11.05741697,   4.49652931,  19.13882957,  10.324653  ,\n",
       "        10.87823016,   2.14254584,  22.77515694,  21.65289278,\n",
       "        29.66178561,  44.14429197,  56.83300904,  60.06967082,\n",
       "        63.24926928,  74.9758168 ,  73.44161391,  76.93229318,\n",
       "        90.35069653,  97.74216377,  93.07723233])"
      ]
     },
     "execution_count": 50,
     "metadata": {},
     "output_type": "execute_result"
    }
   ],
   "source": [
    "y_noise = f(x) + 5*np.random.randn(x.size)  # Add some random noise\n",
    "y_noise"
   ]
  },
  {
   "cell_type": "code",
   "execution_count": 51,
   "id": "ec4ea7fd-41a1-43c6-8299-b15af2d255cc",
   "metadata": {},
   "outputs": [
    {
     "data": {
      "image/png": "[encoded data removed]",
      "text/plain": [
       "<Figure size 400x320 with 1 Axes>"
      ]
     },
     "metadata": {
      "needs_background": "light"
     },
     "output_type": "display_data"
    }
   ],
   "source": [
    "fig = plt.figure(figsize=(5, 4), dpi=80)\n",
    "plt.plot(x, y, 'x')\n",
    "plt.plot(x, y_noise, 'o')\n",
    "plt.grid('on')\n",
    "plt.show()"
   ]
  },
  {
   "cell_type": "markdown",
   "id": "c994b0f1-7921-4c26-9e52-d9d3508fc0ed",
   "metadata": {},
   "source": [
    "- Fit a function $ f2(x)= ax^2+bsin(x)$ by determining the optimal values of the coefficients a and b."
   ]
  },
  {
   "cell_type": "code",
   "execution_count": 53,
   "id": "a0860ab5-4e9e-4fe7-b277-e5df9b972f0a",
   "metadata": {},
   "outputs": [],
   "source": [
    "def f2(x, a, b):\n",
    "    return a*x**2 + b*np.sin(x)"
   ]
  },
  {
   "cell_type": "code",
   "execution_count": 54,
   "id": "6ed32a46-3a76-4d5a-851b-125254ffb3ec",
   "metadata": {},
   "outputs": [
    {
     "data": {
      "text/plain": [
       "array([0.99232992, 9.62116576])"
      ]
     },
     "execution_count": 54,
     "metadata": {},
     "output_type": "execute_result"
    }
   ],
   "source": [
    "guess = [2, 2]  # Initial guess for a and b, respectively\n",
    "params, cov = opt.curve_fit(f2, x, y_noise, guess)\n",
    "params"
   ]
  },
  {
   "cell_type": "code",
   "execution_count": null,
   "id": "d0ae92a5-6b82-4acf-9b0d-3fe2dd382c50",
   "metadata": {},
   "outputs": [],
   "source": [
    "a, b = params[0], para\n",
    "b = params[1]\n",
    "y_fit = f2(x, a, b)\n",
    "y_fit"
   ]
  }
 ],
 "metadata": {
  "kernelspec": {
   "display_name": "Python [conda env:datascience] *",
   "language": "python",
   "name": "conda-env-datascience-py"
  },
  "language_info": {
   "codemirror_mode": {
    "name": "ipython",
    "version": 3
   },
   "file_extension": ".py",
   "mimetype": "text/x-python",
   "name": "python",
   "nbconvert_exporter": "python",
   "pygments_lexer": "ipython3",
   "version": "3.8.13"
  }
 },
 "nbformat": 4,
 "nbformat_minor": 5
}
