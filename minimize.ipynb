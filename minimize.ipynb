{
 "cells": [
  {
   "cell_type": "code",
   "execution_count": 1,
   "id": "ba1f51f4-58f7-495c-b72f-59a84cba936a",
   "metadata": {},
   "outputs": [],
   "source": [
    "from IPython.display import display, Math, Latex"
   ]
  },
  {
   "cell_type": "code",
   "execution_count": 2,
   "id": "7c81c656-dcab-465e-881b-3b01eeabc9ea",
   "metadata": {},
   "outputs": [
    {
     "data": {
      "text/latex": [
       "$\\displaystyle \\min x_1 x_4 \\left(x_1 + x_2 + x_3\\right) + x_3$"
      ],
      "text/plain": [
       "<IPython.core.display.Math object>"
      ]
     },
     "metadata": {},
     "output_type": "display_data"
    },
    {
     "data": {
      "text/latex": [
       "$\\displaystyle \\mathrm{s.t.} \\quad x_1 x_2 x_3 x_4 \\ge 25$"
      ],
      "text/plain": [
       "<IPython.core.display.Math object>"
      ]
     },
     "metadata": {},
     "output_type": "display_data"
    },
    {
     "data": {
      "text/latex": [
       "$\\displaystyle x_1^2 + x_2^2 + x_3^2 + x_4^2 = 40$"
      ],
      "text/plain": [
       "<IPython.core.display.Math object>"
      ]
     },
     "metadata": {},
     "output_type": "display_data"
    },
    {
     "data": {
      "text/latex": [
       "$\\displaystyle 1\\le x_1, x_2, x_3, x_4 \\le 5$"
      ],
      "text/plain": [
       "<IPython.core.display.Math object>"
      ]
     },
     "metadata": {},
     "output_type": "display_data"
    },
    {
     "data": {
      "text/latex": [
       "$\\displaystyle x_0 = (1,5,5,1)$"
      ],
      "text/plain": [
       "<IPython.core.display.Math object>"
      ]
     },
     "metadata": {},
     "output_type": "display_data"
    }
   ],
   "source": [
    "display(Math(r'\\min x_1 x_4 \\left(x_1 + x_2 + x_3\\right) + x_3'))\n",
    "display(Math(r'\\mathrm{s.t.} \\quad x_1 x_2 x_3 x_4 \\ge 25'))\n",
    "display(Math(r'x_1^2 + x_2^2 + x_3^2 + x_4^2 = 40'))\n",
    "display(Math(r'1\\le x_1, x_2, x_3, x_4 \\le 5'))\n",
    "display(Math(r'x_0 = (1,5,5,1)'))"
   ]
  },
  {
   "cell_type": "code",
   "execution_count": 3,
   "id": "952a2eac-6f2c-4f1e-9797-ac938d116f2e",
   "metadata": {},
   "outputs": [],
   "source": [
    "import numpy as np\n",
    "from scipy.optimize import minimize"
   ]
  },
  {
   "cell_type": "code",
   "execution_count": 4,
   "id": "8da934d3-add3-42d3-9c74-9a0787eb4299",
   "metadata": {},
   "outputs": [],
   "source": [
    "def objective(x):\n",
    "    x1 = x[0]\n",
    "    x2 = x[1]\n",
    "    x3 = x[2]\n",
    "    x4 = x[3]\n",
    "    return x1*x4*(x1+x2+x3)+x3  # Objective Function"
   ]
  },
  {
   "cell_type": "code",
   "execution_count": 5,
   "id": "d8c376a8-fd3f-4517-b991-87c82c14da6e",
   "metadata": {},
   "outputs": [],
   "source": [
    "def constraint1(x):\n",
    "    # x1*x2*x3*x4 >= 25\n",
    "    # x1*x2*x3*x4-25 >= 0\n",
    "    return x[0]*x[1]*x[2]*x[3]-25.0"
   ]
  },
  {
   "cell_type": "code",
   "execution_count": 6,
   "id": "87d81613-1114-416c-abbf-b5c42c9d7269",
   "metadata": {},
   "outputs": [],
   "source": [
    "def constraint2(x):\n",
    "    sum_sq = 40\n",
    "    for i in range(4):\n",
    "        sum_sq = sum_sq - x[i]**2\n",
    "    return sum_sq"
   ]
  },
  {
   "cell_type": "code",
   "execution_count": 7,
   "id": "11f68933-a61e-4b5c-be2b-6fa4713c3abe",
   "metadata": {},
   "outputs": [
    {
     "data": {
      "text/plain": [
       "16"
      ]
     },
     "execution_count": 7,
     "metadata": {},
     "output_type": "execute_result"
    }
   ],
   "source": [
    "x0 = [1,5,5,1]\n",
    "objective(x0)"
   ]
  },
  {
   "cell_type": "code",
   "execution_count": 8,
   "id": "9b311068-1324-42aa-9813-29996800e572",
   "metadata": {},
   "outputs": [],
   "source": [
    "b = (1.0, 5.0)\n",
    "bnds = (b,b,b,b)\n",
    "con1 = {'type':'ineq', 'fun':constraint1}\n",
    "con2 = {'type':'eq', 'fun':constraint2}\n",
    "cons = [con1 ,con2]"
   ]
  },
  {
   "cell_type": "code",
   "execution_count": 9,
   "id": "dcdfb34e-b573-4e54-9f0b-5c8146379921",
   "metadata": {},
   "outputs": [
    {
     "data": {
      "text/plain": [
       "     fun: 17.01401724563517\n",
       "     jac: array([14.57227015,  1.37940764,  2.37940764,  9.56415057])\n",
       " message: 'Optimization terminated successfully'\n",
       "    nfev: 25\n",
       "     nit: 5\n",
       "    njev: 5\n",
       "  status: 0\n",
       " success: True\n",
       "       x: array([1.        , 4.7429961 , 3.82115462, 1.37940765])"
      ]
     },
     "execution_count": 9,
     "metadata": {},
     "output_type": "execute_result"
    }
   ],
   "source": [
    "sol = minimize(objective, x0, method='SLSQP', bounds=bnds, constraints=cons)\n",
    "sol"
   ]
  },
  {
   "cell_type": "code",
   "execution_count": 10,
   "id": "1133622c-af61-4394-8001-839d0c41b082",
   "metadata": {},
   "outputs": [
    {
     "name": "stdout",
     "output_type": "stream",
     "text": [
      "Objective Function is:  17.01401724563517\n",
      "Minimized Solution is:  [1.         4.7429961  3.82115462 1.37940765]\n"
     ]
    }
   ],
   "source": [
    "print('Objective Function is: ', sol.fun)\n",
    "print('Minimized Solution is: ', sol.x)"
   ]
  }
 ],
 "metadata": {
  "kernelspec": {
   "display_name": "Python [conda env:datascience] *",
   "language": "python",
   "name": "conda-env-datascience-py"
  },
  "language_info": {
   "codemirror_mode": {
    "name": "ipython",
    "version": 3
   },
   "file_extension": ".py",
   "mimetype": "text/x-python",
   "name": "python",
   "nbconvert_exporter": "python",
   "pygments_lexer": "ipython3",
   "version": "3.8.13"
  }
 },
 "nbformat": 4,
 "nbformat_minor": 5
}
