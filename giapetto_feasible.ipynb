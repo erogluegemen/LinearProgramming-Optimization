{
 "cells": [
  {
   "cell_type": "markdown",
   "id": "88e627a2-ea40-409c-9f71-54bedd6d7095",
   "metadata": {},
   "source": [
    "## Linear Programming\n",
    "- Linear programming(LP) is a method to find the maximum or the minimum in a linear mathematical model\n",
    "- Each LP problem consists of the following components: an objective function, decision variables (or control variables), and constraints."
   ]
  },
  {
   "cell_type": "markdown",
   "id": "58d71afd-2f6b-41d3-be56-7db865ec5945",
   "metadata": {},
   "source": [
    "## Example: Giapetto Problem\n",
    "- Giapetto, Inc. manufactures two types of furniture: chairs and tables. The manufacturer wants to maximize their weekly profit.\n",
    "- \\$20 of profit per chair.\n",
    "- \\$30 of profit per table.\n",
    "- A chair requires 1 hour of finishing labor and 2 hours of carpentry labor.\n",
    "- A table requires 2 hours of finishing labor and 1 hour of carpentry labor.\n",
    "- Each week, Giapetto has onlu 100 finishing hours and 100 carpentry hours available."
   ]
  },
  {
   "cell_type": "markdown",
   "id": "74044077-14aa-45db-a41b-0d80a268f14a",
   "metadata": {},
   "source": [
    "$x1:$ number of chairs produced each week <br>\n",
    "$x2:$ number of tables produced each week <br>\n",
    "<br>\n",
    "$max:  z=20x1 + 30x2$ (Objective Function)<br>\n",
    "$s.t.  x1+2x2 \\leq 100$  (Finishing Hours)<br>\n",
    "$ 2x1+x2 \\leq 100 $ (Carpentry Hours)<br>\n",
    "$ x1 \\geq 0 $ (Sign Restriction)<br>\n",
    "$ x2 \\geq 0 $ (Sing Restriction)"
   ]
  },
  {
   "cell_type": "markdown",
   "id": "f15539c3-96a4-4c9f-b216-dfdf922e4cac",
   "metadata": {},
   "source": [
    "- PuLP uses LP Solvers(e.g., GLPK, COIN CLP/CBX, CPLEX, and GUROBI) to solve linear problems."
   ]
  },
  {
   "cell_type": "code",
   "execution_count": 1,
   "id": "b20b9cbb-abce-479f-8074-4ab5abe8cd50",
   "metadata": {},
   "outputs": [
    {
     "name": "stdout",
     "output_type": "stream",
     "text": [
      "Requirement already satisfied: pulp in /Users/egemeneroglu/opt/anaconda3/envs/datascience/lib/python3.8/site-packages (2.6.0)\n"
     ]
    }
   ],
   "source": [
    "!pip install pulp"
   ]
  },
  {
   "cell_type": "code",
   "execution_count": 2,
   "id": "46162ebb-808c-4de1-af76-008430ed33ce",
   "metadata": {},
   "outputs": [],
   "source": [
    "from pulp import *"
   ]
  },
  {
   "cell_type": "code",
   "execution_count": 3,
   "id": "4ac84387-c227-4ae7-988a-22e7d3e6cb99",
   "metadata": {},
   "outputs": [
    {
     "data": {
      "text/plain": [
       "Giapetto:\n",
       "MAXIMIZE\n",
       "20*x1 + 30*x2 + 0\n",
       "SUBJECT TO\n",
       "_C1: x1 + 2 x2 <= 100\n",
       "\n",
       "_C2: 2 x1 + x2 <= 100\n",
       "\n",
       "VARIABLES\n",
       "x1 Continuous\n",
       "x2 Continuous"
      ]
     },
     "execution_count": 3,
     "metadata": {},
     "output_type": "execute_result"
    }
   ],
   "source": [
    "problem = LpProblem('Giapetto', LpMaximize)  # Create a LP maximization problem\n",
    "x1 = LpVariable('x1', lowBound=0)  # Create a variable x1 >= 0\n",
    "x2 = LpVariable('x2', lowBound=0)  # Create another variable x2 >= 0\n",
    "problem += 20*x1 + 30*x2  # Objective Function\n",
    "problem += 1*x1 + 2*x2 <= 100  # Finishing hours\n",
    "problem += 2*x1 + 1*x2 <= 100  # Carpentry hours\n",
    "problem"
   ]
  },
  {
   "cell_type": "code",
   "execution_count": 4,
   "id": "d095ab2c-24eb-42f6-b5a9-9c0dd669a3d7",
   "metadata": {},
   "outputs": [
    {
     "name": "stdout",
     "output_type": "stream",
     "text": [
      "Welcome to the CBC MILP Solver \n",
      "Version: 2.10.3 \n",
      "Build Date: Dec 15 2019 \n",
      "\n",
      "command line - /Users/egemeneroglu/opt/anaconda3/envs/datascience/lib/python3.8/site-packages/pulp/apis/../solverdir/cbc/osx/64/cbc /var/folders/p1/99fj6n2j4ls6wzzjfk9lzvpc0000gn/T/2cc84e662f4c4ccba9ad7ca55d62d8ba-pulp.mps max timeMode elapsed branch printingOptions all solution /var/folders/p1/99fj6n2j4ls6wzzjfk9lzvpc0000gn/T/2cc84e662f4c4ccba9ad7ca55d62d8ba-pulp.sol (default strategy 1)\n",
      "At line 2 NAME          MODEL\n",
      "At line 3 ROWS\n",
      "At line 7 COLUMNS\n",
      "At line 14 RHS\n",
      "At line 17 BOUNDS\n",
      "At line 18 ENDATA\n",
      "Problem MODEL has 2 rows, 2 columns and 4 elements\n",
      "Coin0008I MODEL read with 0 errors\n",
      "Option for timeMode changed from cpu to elapsed\n",
      "Presolve 2 (0) rows, 2 (0) columns and 4 (0) elements\n",
      "0  Obj -0 Dual inf 50 (2)\n",
      "0  Obj -0 Dual inf 50 (2)\n",
      "2  Obj 1666.6667\n",
      "Optimal - objective value 1666.6667\n",
      "Optimal objective 1666.666667 - 2 iterations time 0.002\n",
      "Option for printingOptions changed from normal to all\n",
      "Total time (CPU seconds):       0.00   (Wallclock seconds):       0.00\n",
      "\n"
     ]
    },
    {
     "data": {
      "text/plain": [
       "'Optimal'"
      ]
     },
     "execution_count": 4,
     "metadata": {},
     "output_type": "execute_result"
    }
   ],
   "source": [
    "status = problem.solve()  # Solve with the default solver\n",
    "LpStatus[status]"
   ]
  },
  {
   "cell_type": "code",
   "execution_count": 5,
   "id": "eebfa484-fdd6-4441-8f1c-cd5a05d2d379",
   "metadata": {},
   "outputs": [
    {
     "data": {
      "text/plain": [
       "(33.333333, 33.333333, 1666.6666500000001)"
      ]
     },
     "execution_count": 5,
     "metadata": {},
     "output_type": "execute_result"
    }
   ],
   "source": [
    "value(x1), value(x2), value(problem.objective)  # Show the solution"
   ]
  },
  {
   "cell_type": "markdown",
   "id": "87826c36-f000-40ff-8512-a982c5b819e0",
   "metadata": {},
   "source": [
    "## Integer Value Solution"
   ]
  },
  {
   "cell_type": "code",
   "execution_count": 6,
   "id": "0b684565-14e0-4227-baf1-cd1f4eeceaf9",
   "metadata": {},
   "outputs": [
    {
     "data": {
      "text/plain": [
       "Giapetto:\n",
       "MAXIMIZE\n",
       "20*x1 + 30*x2 + 0\n",
       "SUBJECT TO\n",
       "_C1: x1 + 2 x2 <= 100\n",
       "\n",
       "_C2: 2 x1 + x2 <= 100\n",
       "\n",
       "VARIABLES\n",
       "0 <= x1 Integer\n",
       "0 <= x2 Integer"
      ]
     },
     "execution_count": 6,
     "metadata": {},
     "output_type": "execute_result"
    }
   ],
   "source": [
    "prob = LpProblem('Giapetto', LpMaximize)\n",
    "x1 = LpVariable('x1', lowBound=0, cat='Integer')  # Integer variable x1 >= 0\n",
    "x2 = LpVariable('x2', lowBound=0, cat='Integer')  # Integer variable x2 >= 0\n",
    "prob += 20*x1 + 30*x2\n",
    "prob += 1*x1 + 2*x2 <= 100\n",
    "prob += 2*x1 + 1*x2 <= 100\n",
    "prob"
   ]
  },
  {
   "cell_type": "code",
   "execution_count": 10,
   "id": "74af15e2-fefd-46ec-9691-82961d96d8ab",
   "metadata": {},
   "outputs": [
    {
     "name": "stdout",
     "output_type": "stream",
     "text": [
      "Welcome to the CBC MILP Solver \n",
      "Version: 2.10.3 \n",
      "Build Date: Dec 15 2019 \n",
      "\n",
      "command line - /Users/egemeneroglu/opt/anaconda3/envs/datascience/lib/python3.8/site-packages/pulp/apis/../solverdir/cbc/osx/64/cbc /var/folders/p1/99fj6n2j4ls6wzzjfk9lzvpc0000gn/T/da5b78216640415587bc22a6c12b34db-pulp.mps max timeMode elapsed branch printingOptions all solution /var/folders/p1/99fj6n2j4ls6wzzjfk9lzvpc0000gn/T/da5b78216640415587bc22a6c12b34db-pulp.sol (default strategy 1)\n",
      "At line 2 NAME          MODEL\n",
      "At line 3 ROWS\n",
      "At line 7 COLUMNS\n",
      "At line 18 RHS\n",
      "At line 21 BOUNDS\n",
      "At line 24 ENDATA\n",
      "Problem MODEL has 2 rows, 2 columns and 4 elements\n",
      "Coin0008I MODEL read with 0 errors\n",
      "Option for timeMode changed from cpu to elapsed\n",
      "Continuous objective value is 1666.67 - 0.00 seconds\n",
      "Cgl0004I processed model has 2 rows, 2 columns (2 integer (0 of which binary)) and 4 elements\n",
      "Cutoff increment increased from 1e-05 to 9.9999\n",
      "Cbc0012I Integer solution of -1650 found by DiveCoefficient after 0 iterations and 0 nodes (0.00 seconds)\n",
      "Cbc0012I Integer solution of -1660 found by DiveCoefficient after 1 iterations and 0 nodes (0.00 seconds)\n",
      "Cbc0031I 1 added rows had average density of 2\n",
      "Cbc0013I At root node, 1 cuts changed objective from -1666.6667 to -1660 in 4 passes\n",
      "Cbc0014I Cut generator 0 (Probing) - 0 row cuts average 0.0 elements, 8 column cuts (8 active)  in 0.000 seconds - new frequency is 1\n",
      "Cbc0014I Cut generator 1 (Gomory) - 1 row cuts average 2.0 elements, 0 column cuts (0 active)  in 0.000 seconds - new frequency is 1\n",
      "Cbc0014I Cut generator 2 (Knapsack) - 0 row cuts average 0.0 elements, 0 column cuts (0 active)  in 0.000 seconds - new frequency is -100\n",
      "Cbc0014I Cut generator 3 (Clique) - 0 row cuts average 0.0 elements, 0 column cuts (0 active)  in 0.000 seconds - new frequency is -100\n",
      "Cbc0014I Cut generator 4 (MixedIntegerRounding2) - 0 row cuts average 0.0 elements, 0 column cuts (0 active)  in 0.000 seconds - new frequency is -100\n",
      "Cbc0014I Cut generator 5 (FlowCover) - 0 row cuts average 0.0 elements, 0 column cuts (0 active)  in 0.000 seconds - new frequency is -100\n",
      "Cbc0001I Search completed - best objective -1660, took 1 iterations and 0 nodes (0.00 seconds)\n",
      "Cbc0035I Maximum depth 0, 0 variables fixed on reduced cost\n",
      "Cuts at root node changed objective from -1666.67 to -1660\n",
      "Probing was tried 4 times and created 8 cuts of which 0 were active after adding rounds of cuts (0.000 seconds)\n",
      "Gomory was tried 4 times and created 1 cuts of which 0 were active after adding rounds of cuts (0.000 seconds)\n",
      "Knapsack was tried 4 times and created 0 cuts of which 0 were active after adding rounds of cuts (0.000 seconds)\n",
      "Clique was tried 4 times and created 0 cuts of which 0 were active after adding rounds of cuts (0.000 seconds)\n",
      "MixedIntegerRounding2 was tried 4 times and created 0 cuts of which 0 were active after adding rounds of cuts (0.000 seconds)\n",
      "FlowCover was tried 4 times and created 0 cuts of which 0 were active after adding rounds of cuts (0.000 seconds)\n",
      "TwoMirCuts was tried 1 times and created 0 cuts of which 0 were active after adding rounds of cuts (0.000 seconds)\n",
      "ZeroHalf was tried 1 times and created 0 cuts of which 0 were active after adding rounds of cuts (0.000 seconds)\n",
      "\n",
      "Result - Optimal solution found\n",
      "\n",
      "Objective value:                1660.00000000\n",
      "Enumerated nodes:               0\n",
      "Total iterations:               1\n",
      "Time (CPU seconds):             0.00\n",
      "Time (Wallclock seconds):       0.00\n",
      "\n",
      "Option for printingOptions changed from normal to all\n",
      "Total time (CPU seconds):       0.00   (Wallclock seconds):       0.00\n",
      "\n"
     ]
    },
    {
     "data": {
      "text/plain": [
       "'Optimal'"
      ]
     },
     "execution_count": 10,
     "metadata": {},
     "output_type": "execute_result"
    }
   ],
   "source": [
    "status = prob.solve()\n",
    "LpStatus[status]"
   ]
  },
  {
   "cell_type": "code",
   "execution_count": 11,
   "id": "7f17060a-48a3-49fe-990f-67dca23f9990",
   "metadata": {},
   "outputs": [
    {
     "data": {
      "text/plain": [
       "(32.0, 34.0, 1660.0)"
      ]
     },
     "execution_count": 11,
     "metadata": {},
     "output_type": "execute_result"
    }
   ],
   "source": [
    "value(x1), value(x2), value(prob.objective)"
   ]
  },
  {
   "cell_type": "markdown",
   "id": "e35defdd-895c-4cca-a71a-71d6b931656f",
   "metadata": {},
   "source": [
    "- Note the Integer Linear Programming solution is not just the rounded solution of the continuous LP solution (33, 33, 1650)."
   ]
  }
 ],
 "metadata": {
  "kernelspec": {
   "display_name": "Python [conda env:datascience] *",
   "language": "python",
   "name": "conda-env-datascience-py"
  },
  "language_info": {
   "codemirror_mode": {
    "name": "ipython",
    "version": 3
   },
   "file_extension": ".py",
   "mimetype": "text/x-python",
   "name": "python",
   "nbconvert_exporter": "python",
   "pygments_lexer": "ipython3",
   "version": "3.8.13"
  }
 },
 "nbformat": 4,
 "nbformat_minor": 5
}
