{
 "cells": [
  {
   "cell_type": "markdown",
   "id": "f9d5874c-6880-447b-84e1-a8b617287a22",
   "metadata": {},
   "source": [
    "### Problem Space\n",
    "\n",
    "- <b>Goal: Minimize Sales</b>\n",
    "    - Foldy Phones = 900 dollar\n",
    "    - Tiny Phones = 1100 dollar\n",
    "    <br>\n",
    "    <br>\n",
    "    \n",
    "- <b>Variables:</b>\n",
    "    - FoldyPhone Production Number\n",
    "    - TinyPhone Production Number\n",
    "    <br>\n",
    "    <br>\n",
    "   \n",
    "- <b>Constraints:</b>\n",
    "    - Stores need 200 Tiny Phones for contracts.\n",
    "    - Stored need 500 Foldy Phones for contracts.\n",
    "    - Factory has 2999.5 Hours of production time.\n",
    "    <br>\n",
    "    <br>\n",
    "    \n",
    "<b><i>How many of each phone should make?</i></b>"
   ]
  },
  {
   "cell_type": "code",
   "execution_count": 1,
   "id": "a3f57bd9-f88b-4481-88bf-c84ed52d82aa",
   "metadata": {},
   "outputs": [],
   "source": [
    "# !pip install docplex\n",
    "# !pip install cplex\n",
    "from docplex.mp.model import Model"
   ]
  },
  {
   "cell_type": "code",
   "execution_count": 2,
   "id": "6b9a5b04-f796-4f9d-8c3a-ea09a2605179",
   "metadata": {},
   "outputs": [],
   "source": [
    "m = Model(name='Phone Production')"
   ]
  },
  {
   "cell_type": "markdown",
   "id": "8c80ecd1-441d-41f7-a2d0-f159631fafcb",
   "metadata": {},
   "source": [
    "### Variables"
   ]
  },
  {
   "cell_type": "code",
   "execution_count": 3,
   "id": "31bd6180-d591-4421-8bad-ddb14c866d68",
   "metadata": {},
   "outputs": [],
   "source": [
    "foldy_phone = m.continuous_var(name='foldyphone')\n",
    "tiny_phone = m.continuous_var(name='tinyphone')"
   ]
  },
  {
   "cell_type": "code",
   "execution_count": 4,
   "id": "4d4589dc-7639-4cec-86b7-1ec1f445d20b",
   "metadata": {},
   "outputs": [],
   "source": [
    "foldy_phone_time = 1.5\n",
    "tiny_phone_time = 2"
   ]
  },
  {
   "cell_type": "code",
   "execution_count": 5,
   "id": "c7bd15e1-a0c0-40c0-96e6-fcb18a774115",
   "metadata": {},
   "outputs": [],
   "source": [
    "foldy_phone_sale_price = 900\n",
    "tiny_phone_sale_price = 1100"
   ]
  },
  {
   "cell_type": "markdown",
   "id": "319e73bc-ed0e-4ace-926f-edb2c8116a77",
   "metadata": {},
   "source": [
    "### Constraints"
   ]
  },
  {
   "cell_type": "code",
   "execution_count": 6,
   "id": "354339ae-180b-483d-a612-2fe7a32bac56",
   "metadata": {},
   "outputs": [],
   "source": [
    "foldy_phone_prod = m.add_constraint(foldy_phone >= 500)\n",
    "tiny_phone_prod = m.add_constraint(tiny_phone >= 200)\n",
    "total_prod = m.add_constraint(m.sum([tiny_phone * tiny_phone_time, foldy_phone * foldy_phone_time]) <= 2999.5)"
   ]
  },
  {
   "cell_type": "markdown",
   "id": "ff31fd5c-aafa-4dd7-8580-ea457d9362af",
   "metadata": {},
   "source": [
    "### Objective Function"
   ]
  },
  {
   "cell_type": "code",
   "execution_count": 7,
   "id": "55bae18a-c52f-429f-bcb8-b843ac6bdfec",
   "metadata": {},
   "outputs": [],
   "source": [
    "m.maximize(foldy_phone * foldy_phone_sale_price + tiny_phone * tiny_phone_sale_price)"
   ]
  },
  {
   "cell_type": "markdown",
   "id": "9c58f565-952f-4df5-a830-37c0d96f2c7a",
   "metadata": {},
   "source": [
    "### Solution"
   ]
  },
  {
   "cell_type": "code",
   "execution_count": 8,
   "id": "feef205e-d92b-4cd8-9b2d-2de84d0ef203",
   "metadata": {},
   "outputs": [],
   "source": [
    "sol = m.solve()"
   ]
  },
  {
   "cell_type": "code",
   "execution_count": 9,
   "id": "9c42c1a1-3e56-4539-8306-1a62c8e1c132",
   "metadata": {},
   "outputs": [
    {
     "name": "stdout",
     "output_type": "stream",
     "text": [
      "solution for: Phone Production\n",
      "objective: 1779700.000\n",
      "foldyphone = 1733.000\n",
      "tinyphone = 200.000\n"
     ]
    }
   ],
   "source": [
    "sol.display()"
   ]
  },
  {
   "cell_type": "code",
   "execution_count": 12,
   "id": "5c70ae9a-68f6-4c4f-b40d-d72df9cb22a0",
   "metadata": {},
   "outputs": [
    {
     "name": "stdout",
     "output_type": "stream",
     "text": [
      "Phone Production for Tiny Phone:  200.0\n",
      "Phone Production for Foldy Phone: 1733.0\n"
     ]
    }
   ],
   "source": [
    "print('Phone Production for Tiny Phone: ', tiny_phone.solution_value)\n",
    "print('Phone Production for Foldy Phone:', foldy_phone.solution_value)"
   ]
  }
 ],
 "metadata": {
  "kernelspec": {
   "display_name": "Python [conda env:datascience] *",
   "language": "python",
   "name": "conda-env-datascience-py"
  },
  "language_info": {
   "codemirror_mode": {
    "name": "ipython",
    "version": 3
   },
   "file_extension": ".py",
   "mimetype": "text/x-python",
   "name": "python",
   "nbconvert_exporter": "python",
   "pygments_lexer": "ipython3",
   "version": "3.8.13"
  }
 },
 "nbformat": 4,
 "nbformat_minor": 5
}
